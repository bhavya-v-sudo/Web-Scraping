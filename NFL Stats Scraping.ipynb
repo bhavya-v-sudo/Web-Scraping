{
 "cells": [
  {
   "cell_type": "code",
   "execution_count": 84,
   "id": "ca2897b5",
   "metadata": {},
   "outputs": [],
   "source": [
    "import requests\n",
    "from bs4 import BeautifulSoup\n",
    "import pandas as pd"
   ]
  },
  {
   "cell_type": "code",
   "execution_count": 85,
   "id": "ae5dbace",
   "metadata": {},
   "outputs": [],
   "source": [
    "url = 'https://www.nfl.com/standings/league/2019/REG'\n",
    "page = requests.get(url)\n",
    "soup = BeautifulSoup(page.text, 'lxml')"
   ]
  },
  {
   "cell_type": "code",
   "execution_count": 86,
   "id": "9e15286e",
   "metadata": {},
   "outputs": [],
   "source": [
    "table = soup.find_all('table', {'summary':'Standings - Detailed View'})[0]"
   ]
  },
  {
   "cell_type": "code",
   "execution_count": 87,
   "id": "c3fb9cc5",
   "metadata": {},
   "outputs": [],
   "source": [
    "column_names = [i.text for i in table.find('tr').find_all('th')]"
   ]
  },
  {
   "cell_type": "code",
   "execution_count": 88,
   "id": "4a83737e",
   "metadata": {},
   "outputs": [],
   "source": [
    "rows_1 = [i.find_all('td') for i in table.find_all('tr')[1:]]"
   ]
  },
  {
   "cell_type": "code",
   "execution_count": 89,
   "id": "3870a8ad",
   "metadata": {},
   "outputs": [],
   "source": [
    "rows1 = []\n",
    "for i in rows_1:\n",
    "    rows2 = []\n",
    "    rows2.append(i[0].find('div', class_ = 'd3-o-club-shortname').text)\n",
    "    for j in i[1:]:\n",
    "        rows2.append(j.text)\n",
    "    rows1.append(rows2)"
   ]
  },
  {
   "cell_type": "code",
   "execution_count": 90,
   "id": "6f33d416",
   "metadata": {},
   "outputs": [],
   "source": [
    "df = pd.DataFrame(rows1, columns = column_names)"
   ]
  },
  {
   "cell_type": "code",
   "execution_count": 91,
   "id": "e066db94",
   "metadata": {},
   "outputs": [],
   "source": [
    "df.to_excel('NFL.xlsx')"
   ]
  },
  {
   "cell_type": "code",
   "execution_count": 92,
   "id": "e505bdee",
   "metadata": {},
   "outputs": [
    {
     "data": {
      "text/html": [
       "<div>\n",
       "<style scoped>\n",
       "    .dataframe tbody tr th:only-of-type {\n",
       "        vertical-align: middle;\n",
       "    }\n",
       "\n",
       "    .dataframe tbody tr th {\n",
       "        vertical-align: top;\n",
       "    }\n",
       "\n",
       "    .dataframe thead th {\n",
       "        text-align: right;\n",
       "    }\n",
       "</style>\n",
       "<table border=\"1\" class=\"dataframe\">\n",
       "  <thead>\n",
       "    <tr style=\"text-align: right;\">\n",
       "      <th></th>\n",
       "      <th>NFL Team</th>\n",
       "      <th>W</th>\n",
       "      <th>L</th>\n",
       "      <th>T</th>\n",
       "      <th>PCT</th>\n",
       "      <th>PF</th>\n",
       "      <th>PA</th>\n",
       "      <th>Net Pts</th>\n",
       "      <th>Home</th>\n",
       "      <th>Road</th>\n",
       "      <th>Div</th>\n",
       "      <th>Pct</th>\n",
       "      <th>Conf</th>\n",
       "      <th>Pct</th>\n",
       "      <th>Non-Conf</th>\n",
       "      <th>Strk</th>\n",
       "      <th>Last 5</th>\n",
       "    </tr>\n",
       "  </thead>\n",
       "  <tbody>\n",
       "    <tr>\n",
       "      <th>0</th>\n",
       "      <td>Bengals</td>\n",
       "      <td>2</td>\n",
       "      <td>14</td>\n",
       "      <td>0</td>\n",
       "      <td>0.125</td>\n",
       "      <td>279</td>\n",
       "      <td>420</td>\n",
       "      <td>-141</td>\n",
       "      <td>2 - 6 - 0</td>\n",
       "      <td>0 - 8 - 0</td>\n",
       "      <td>1 - 5 - 0</td>\n",
       "      <td>0.167</td>\n",
       "      <td>2 - 10 - 0</td>\n",
       "      <td>0.167</td>\n",
       "      <td>0 - 4 - 0</td>\n",
       "      <td>1W</td>\n",
       "      <td>2 - 3 - 0</td>\n",
       "    </tr>\n",
       "    <tr>\n",
       "      <th>1</th>\n",
       "      <td>Lions</td>\n",
       "      <td>3</td>\n",
       "      <td>12</td>\n",
       "      <td>1</td>\n",
       "      <td>0.219</td>\n",
       "      <td>341</td>\n",
       "      <td>423</td>\n",
       "      <td>-82</td>\n",
       "      <td>2 - 6 - 0</td>\n",
       "      <td>1 - 6 - 1</td>\n",
       "      <td>0 - 6 - 0</td>\n",
       "      <td>0.000</td>\n",
       "      <td>2 - 9 - 1</td>\n",
       "      <td>0.208</td>\n",
       "      <td>1 - 3 - 0</td>\n",
       "      <td>9L</td>\n",
       "      <td>0 - 5 - 0</td>\n",
       "    </tr>\n",
       "    <tr>\n",
       "      <th>2</th>\n",
       "      <td>Redskins</td>\n",
       "      <td>3</td>\n",
       "      <td>13</td>\n",
       "      <td>0</td>\n",
       "      <td>0.188</td>\n",
       "      <td>266</td>\n",
       "      <td>435</td>\n",
       "      <td>-169</td>\n",
       "      <td>1 - 7 - 0</td>\n",
       "      <td>2 - 6 - 0</td>\n",
       "      <td>0 - 6 - 0</td>\n",
       "      <td>0.000</td>\n",
       "      <td>2 - 10 - 0</td>\n",
       "      <td>0.167</td>\n",
       "      <td>1 - 3 - 0</td>\n",
       "      <td>4L</td>\n",
       "      <td>1 - 4 - 0</td>\n",
       "    </tr>\n",
       "    <tr>\n",
       "      <th>3</th>\n",
       "      <td>Giants</td>\n",
       "      <td>4</td>\n",
       "      <td>12</td>\n",
       "      <td>0</td>\n",
       "      <td>0.250</td>\n",
       "      <td>341</td>\n",
       "      <td>451</td>\n",
       "      <td>-110</td>\n",
       "      <td>2 - 6 - 0</td>\n",
       "      <td>2 - 6 - 0</td>\n",
       "      <td>2 - 4 - 0</td>\n",
       "      <td>0.333</td>\n",
       "      <td>3 - 9 - 0</td>\n",
       "      <td>0.250</td>\n",
       "      <td>1 - 3 - 0</td>\n",
       "      <td>1L</td>\n",
       "      <td>2 - 3 - 0</td>\n",
       "    </tr>\n",
       "    <tr>\n",
       "      <th>4</th>\n",
       "      <td>Cardinals</td>\n",
       "      <td>5</td>\n",
       "      <td>10</td>\n",
       "      <td>1</td>\n",
       "      <td>0.344</td>\n",
       "      <td>361</td>\n",
       "      <td>442</td>\n",
       "      <td>-81</td>\n",
       "      <td>2 - 5 - 1</td>\n",
       "      <td>3 - 5 - 0</td>\n",
       "      <td>1 - 5 - 0</td>\n",
       "      <td>0.167</td>\n",
       "      <td>3 - 8 - 1</td>\n",
       "      <td>0.292</td>\n",
       "      <td>2 - 2 - 0</td>\n",
       "      <td>1L</td>\n",
       "      <td>2 - 3 - 0</td>\n",
       "    </tr>\n",
       "  </tbody>\n",
       "</table>\n",
       "</div>"
      ],
      "text/plain": [
       "    NFL Team  W   L  T    PCT   PF   PA Net Pts       Home       Road  \\\n",
       "0    Bengals  2  14  0  0.125  279  420    -141  2 - 6 - 0  0 - 8 - 0   \n",
       "1      Lions  3  12  1  0.219  341  423     -82  2 - 6 - 0  1 - 6 - 1   \n",
       "2   Redskins  3  13  0  0.188  266  435    -169  1 - 7 - 0  2 - 6 - 0   \n",
       "3     Giants  4  12  0  0.250  341  451    -110  2 - 6 - 0  2 - 6 - 0   \n",
       "4  Cardinals  5  10  1  0.344  361  442     -81  2 - 5 - 1  3 - 5 - 0   \n",
       "\n",
       "         Div    Pct        Conf    Pct   Non-Conf Strk     Last 5  \n",
       "0  1 - 5 - 0  0.167  2 - 10 - 0  0.167  0 - 4 - 0   1W  2 - 3 - 0  \n",
       "1  0 - 6 - 0  0.000   2 - 9 - 1  0.208  1 - 3 - 0   9L  0 - 5 - 0  \n",
       "2  0 - 6 - 0  0.000  2 - 10 - 0  0.167  1 - 3 - 0   4L  1 - 4 - 0  \n",
       "3  2 - 4 - 0  0.333   3 - 9 - 0  0.250  1 - 3 - 0   1L  2 - 3 - 0  \n",
       "4  1 - 5 - 0  0.167   3 - 8 - 1  0.292  2 - 2 - 0   1L  2 - 3 - 0  "
      ]
     },
     "execution_count": 92,
     "metadata": {},
     "output_type": "execute_result"
    }
   ],
   "source": [
    "df.head()"
   ]
  },
  {
   "cell_type": "code",
   "execution_count": 96,
   "id": "1e37560a",
   "metadata": {},
   "outputs": [
    {
     "name": "stdout",
     "output_type": "stream",
     "text": [
      "NFL Team\n",
      "W\n",
      "L\n",
      "T\n",
      "PCT\n",
      "PF\n",
      "PA\n",
      "Net Pts\n",
      "Home\n",
      "Road\n",
      "Div\n",
      "Pct\n",
      "Conf\n",
      "Pct\n",
      "Non-Conf\n",
      "Strk\n",
      "Last 5\n"
     ]
    }
   ],
   "source": [
    "for i in table.find_all('th'):\n",
    "    title = i.text.split()\n",
    "    print(i.text)"
   ]
  },
  {
   "cell_type": "code",
   "execution_count": null,
   "id": "fce3f55b",
   "metadata": {},
   "outputs": [],
   "source": []
  }
 ],
 "metadata": {
  "kernelspec": {
   "display_name": "Python 3 (ipykernel)",
   "language": "python",
   "name": "python3"
  },
  "language_info": {
   "codemirror_mode": {
    "name": "ipython",
    "version": 3
   },
   "file_extension": ".py",
   "mimetype": "text/x-python",
   "name": "python",
   "nbconvert_exporter": "python",
   "pygments_lexer": "ipython3",
   "version": "3.9.13"
  }
 },
 "nbformat": 4,
 "nbformat_minor": 5
}
