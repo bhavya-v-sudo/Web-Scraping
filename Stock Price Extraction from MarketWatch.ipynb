{
 "cells": [
  {
   "cell_type": "code",
   "execution_count": 1,
   "id": "1fd9a89f",
   "metadata": {},
   "outputs": [],
   "source": [
    "import requests\n",
    "from bs4 import BeautifulSoup"
   ]
  },
  {
   "cell_type": "code",
   "execution_count": 2,
   "id": "ae9d5742",
   "metadata": {},
   "outputs": [],
   "source": [
    "url = 'https://www.marketwatch.com/investing/stock/aapl?mod=search_symbol'"
   ]
  },
  {
   "cell_type": "code",
   "execution_count": 4,
   "id": "a8a355b8",
   "metadata": {},
   "outputs": [],
   "source": [
    "page = requests.get(url)\n",
    "soup = BeautifulSoup(page.text, 'lxml')"
   ]
  },
  {
   "cell_type": "code",
   "execution_count": 8,
   "id": "b412547e",
   "metadata": {},
   "outputs": [
    {
     "data": {
      "text/plain": [
       "'172.37'"
      ]
     },
     "execution_count": 8,
     "metadata": {},
     "output_type": "execute_result"
    }
   ],
   "source": [
    "soup.find('bg-quote', class_='value').text"
   ]
  },
  {
   "cell_type": "code",
   "execution_count": 10,
   "id": "07101d64",
   "metadata": {},
   "outputs": [
    {
     "data": {
      "text/plain": [
       "'$172.57 '"
      ]
     },
     "execution_count": 10,
     "metadata": {},
     "output_type": "execute_result"
    }
   ],
   "source": [
    "soup.find('td', class_ = 'table__cell u-semi').text"
   ]
  },
  {
   "cell_type": "code",
   "execution_count": 18,
   "id": "3664ffda",
   "metadata": {},
   "outputs": [],
   "source": [
    "range1 = soup.find_all('div', class_ = 'range__header')"
   ]
  },
  {
   "cell_type": "code",
   "execution_count": 19,
   "id": "db8fafb5",
   "metadata": {},
   "outputs": [
    {
     "data": {
      "text/plain": [
       "[<div class=\"range__header\">\n",
       " <span class=\"primary\">Volume: 45.53M</span>\n",
       " <span class=\"secondary\">65 Day Avg: 59.09M</span>\n",
       " </div>,\n",
       " <div class=\"range__header\">\n",
       " <span class=\"primary\">171.00</span>\n",
       " <span class=\"secondary\">Day Range</span>\n",
       " <span class=\"primary\">174.06</span>\n",
       " </div>,\n",
       " <div class=\"range__header\">\n",
       " <span class=\"primary\">124.17</span>\n",
       " <span class=\"secondary\">52 Week Range</span>\n",
       " <span class=\"primary\">176.15</span>\n",
       " </div>]"
      ]
     },
     "execution_count": 19,
     "metadata": {},
     "output_type": "execute_result"
    }
   ],
   "source": [
    "range1"
   ]
  },
  {
   "cell_type": "code",
   "execution_count": 33,
   "id": "09aa4e92",
   "metadata": {},
   "outputs": [
    {
     "data": {
      "text/plain": [
       "'\\nVolume: 45.53M\\n65 Day Avg: 59.09M\\n'"
      ]
     },
     "execution_count": 33,
     "metadata": {},
     "output_type": "execute_result"
    }
   ],
   "source": [
    "range1[0].text"
   ]
  },
  {
   "cell_type": "code",
   "execution_count": 43,
   "id": "c5ec497e",
   "metadata": {},
   "outputs": [
    {
     "name": "stdout",
     "output_type": "stream",
     "text": [
      "['124.17', '176.15']\n"
     ]
    }
   ],
   "source": [
    "import re\n",
    "pattern = re.compile(r'52 Week Range')\n",
    "for i in range1:\n",
    "    if re.search(pattern, i.text):\n",
    "        print([j.text for j in i.find_all('span', class_ = 'primary')])"
   ]
  },
  {
   "cell_type": "code",
   "execution_count": 44,
   "id": "208ae856",
   "metadata": {},
   "outputs": [],
   "source": [
    "Analyst = soup.find_all('li', class_ = 'analyst__option active')"
   ]
  },
  {
   "cell_type": "code",
   "execution_count": 51,
   "id": "267dc83c",
   "metadata": {},
   "outputs": [
    {
     "data": {
      "text/plain": [
       "'Over'"
      ]
     },
     "execution_count": 51,
     "metadata": {},
     "output_type": "execute_result"
    }
   ],
   "source": [
    "Analyst[0].text"
   ]
  },
  {
   "cell_type": "code",
   "execution_count": null,
   "id": "9df24fbf",
   "metadata": {},
   "outputs": [],
   "source": []
  }
 ],
 "metadata": {
  "kernelspec": {
   "display_name": "Python 3 (ipykernel)",
   "language": "python",
   "name": "python3"
  },
  "language_info": {
   "codemirror_mode": {
    "name": "ipython",
    "version": 3
   },
   "file_extension": ".py",
   "mimetype": "text/x-python",
   "name": "python",
   "nbconvert_exporter": "python",
   "pygments_lexer": "ipython3",
   "version": "3.9.13"
  }
 },
 "nbformat": 4,
 "nbformat_minor": 5
}
