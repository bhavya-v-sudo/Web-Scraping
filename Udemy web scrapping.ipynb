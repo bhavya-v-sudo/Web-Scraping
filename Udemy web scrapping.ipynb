{
 "cells": [
  {
   "cell_type": "code",
   "execution_count": 1,
   "id": "13a63651",
   "metadata": {},
   "outputs": [],
   "source": [
    "import requests\n",
    "from bs4 import BeautifulSoup"
   ]
  },
  {
   "cell_type": "code",
   "execution_count": 4,
   "id": "e145a129",
   "metadata": {},
   "outputs": [],
   "source": [
    "url = 'https://webscraper.io/test-sites/e-commerce/allinone'\n",
    "page = requests.get(url)"
   ]
  },
  {
   "cell_type": "code",
   "execution_count": 6,
   "id": "c8a0b135",
   "metadata": {},
   "outputs": [],
   "source": [
    "soup = BeautifulSoup(page.text, 'lxml')"
   ]
  },
  {
   "cell_type": "code",
   "execution_count": null,
   "id": "9e7081ec",
   "metadata": {},
   "outputs": [],
   "source": [
    "#Tags\n",
    "tag = soup.header # returns the first tag"
   ]
  },
  {
   "cell_type": "code",
   "execution_count": 20,
   "id": "2d594a86",
   "metadata": {},
   "outputs": [
    {
     "data": {
      "text/plain": [
       "'Web Scraper'"
      ]
     },
     "execution_count": 20,
     "metadata": {},
     "output_type": "execute_result"
    }
   ],
   "source": [
    "# Navigable String\n",
    "tag = soup.header.p\n",
    "tag.string"
   ]
  },
  {
   "cell_type": "code",
   "execution_count": 23,
   "id": "f85f2498",
   "metadata": {},
   "outputs": [
    {
     "data": {
      "text/plain": [
       "'collapse-side'"
      ]
     },
     "execution_count": 23,
     "metadata": {},
     "output_type": "execute_result"
    }
   ],
   "source": [
    "# attribute\n",
    "attribute = soup.header.a.attrs\n",
    "attribute['data-toggle']"
   ]
  },
  {
   "cell_type": "code",
   "execution_count": 24,
   "id": "cd73d436",
   "metadata": {},
   "outputs": [],
   "source": [
    "attribute['new1'] = 'This is a new attribute'"
   ]
  },
  {
   "cell_type": "code",
   "execution_count": 25,
   "id": "26a98eb8",
   "metadata": {},
   "outputs": [
    {
     "data": {
      "text/plain": [
       "{'data-toggle': 'collapse-side',\n",
       " 'data-target': '.side-collapse',\n",
       " 'data-target-2': '.side-collapse-container',\n",
       " 'new1': 'This is a new attribute'}"
      ]
     },
     "execution_count": 25,
     "metadata": {},
     "output_type": "execute_result"
    }
   ],
   "source": [
    "attribute"
   ]
  },
  {
   "cell_type": "code",
   "execution_count": 27,
   "id": "d892a4f1",
   "metadata": {},
   "outputs": [
    {
     "data": {
      "text/plain": [
       "<a data-target=\".side-collapse\" data-target-2=\".side-collapse-container\" data-toggle=\"collapse-side\" new1=\"This is a new attribute\">\n",
       "<button aria-controls=\"navbar\" aria-expanded=\"false\" class=\"navbar-toggle pull-right collapsed\" data-target=\"#navbar\" data-target-2=\".side-collapse-container\" data-target-3=\".side-collapse\" data-toggle=\"collapse\" type=\"button\">\n",
       "<span class=\"sr-only\">Toggle navigation</span>\n",
       "<span class=\"icon-bar top-bar\"></span>\n",
       "<span class=\"icon-bar middle-bar\"></span>\n",
       "<span class=\"icon-bar bottom-bar\"></span>\n",
       "</button>\n",
       "</a>"
      ]
     },
     "execution_count": 27,
     "metadata": {},
     "output_type": "execute_result"
    }
   ],
   "source": [
    "soup.header.a # added a new attribute to the html"
   ]
  },
  {
   "cell_type": "code",
   "execution_count": 67,
   "id": "3e3fa7d6",
   "metadata": {},
   "outputs": [
    {
     "name": "stdout",
     "output_type": "stream",
     "text": [
      "$24.99\n"
     ]
    },
    {
     "data": {
      "text/plain": [
       "'$24.99'"
      ]
     },
     "execution_count": 67,
     "metadata": {},
     "output_type": "execute_result"
    }
   ],
   "source": [
    "# find() --> pass tags, attributes -- also returns the first occurrence.\n",
    "url = 'https://webscraper.io/test-sites/e-commerce/allinone/phones/touch'\n",
    "page = requests.get(url, 'lxml')\n",
    "soup = BeautifulSoup(page.text, 'lxml')\n",
    "\n",
    "header = soup.find('header') #soup.header\n",
    "\n",
    "soup.find('div', {'class':'container test-site'})\n",
    "\n",
    "# price\n",
    "print(soup.find('h4', {'class':'pull-right price'}).string)\n",
    "#or only works for class attribute\n",
    "soup.find('h4', class_ = 'pull-right price').string"
   ]
  },
  {
   "cell_type": "code",
   "execution_count": 68,
   "id": "8432cd12",
   "metadata": {},
   "outputs": [
    {
     "data": {
      "text/plain": [
       "'11 reviews'"
      ]
     },
     "execution_count": 68,
     "metadata": {},
     "output_type": "execute_result"
    }
   ],
   "source": [
    "# find_all() -> outputs a list\n",
    "\n",
    "price = soup.find_all('h4', class_ = 'pull-right price')\n",
    "title = soup.find_all('a', {'class' : 'title'})\n",
    "reviews = soup.find_all('p', {'class' : 'pull-right'})\n",
    "\n",
    "reviews[1].string"
   ]
  },
  {
   "cell_type": "code",
   "execution_count": 49,
   "id": "c7a2f204",
   "metadata": {},
   "outputs": [
    {
     "data": {
      "text/plain": [
       "[<h4 class=\"pull-right price\">$899.99</h4>,\n",
       " <h4 class=\"pull-right price\">$899.99</h4>,\n",
       " <h4 class=\"pull-right price\">$899.99</h4>]"
      ]
     },
     "execution_count": 49,
     "metadata": {},
     "output_type": "execute_result"
    }
   ],
   "source": [
    "price[6:]"
   ]
  },
  {
   "cell_type": "code",
   "execution_count": 50,
   "id": "a3baa275",
   "metadata": {},
   "outputs": [
    {
     "data": {
      "text/plain": [
       "[<a data-target=\".side-collapse\" data-target-2=\".side-collapse-container\" data-toggle=\"collapse-side\">\n",
       " <button aria-controls=\"navbar\" aria-expanded=\"false\" class=\"navbar-toggle pull-right collapsed\" data-target=\"#navbar\" data-target-2=\".side-collapse-container\" data-target-3=\".side-collapse\" data-toggle=\"collapse\" type=\"button\">\n",
       " <span class=\"sr-only\">Toggle navigation</span>\n",
       " <span class=\"icon-bar top-bar\"></span>\n",
       " <span class=\"icon-bar middle-bar\"></span>\n",
       " <span class=\"icon-bar bottom-bar\"></span>\n",
       " </button>\n",
       " </a>,\n",
       " <a href=\"/\"><img alt=\"Web Scraper\" src=\"/img/logo_white.svg\"/></a>,\n",
       " <a href=\"#page-top\"></a>,\n",
       " <a class=\"menuitm\" href=\"/\">\n",
       " <p>Web Scraper</p>\n",
       " <div class=\"crta\"></div>\n",
       " </a>,\n",
       " <p>Web Scraper</p>,\n",
       " <a class=\"menuitm\" href=\"/cloud-scraper\">\n",
       " <p>Cloud Scraper</p>\n",
       " <div class=\"crta\"></div>\n",
       " </a>,\n",
       " <p>Cloud Scraper</p>,\n",
       " <a class=\"menuitm\" href=\"/pricing\">\n",
       " <p>Pricing</p>\n",
       " <div class=\"crta\"></div>\n",
       " </a>,\n",
       " <p>Pricing</p>,\n",
       " <a class=\"menuitm dropdown-toggle\" data-toggle=\"dropdown\" href=\"#section3\">\n",
       " <p>Learn</p>\n",
       " <div class=\"crta\"></div>\n",
       " </a>,\n",
       " <p>Learn</p>,\n",
       " <a href=\"/documentation\">Documentation</a>,\n",
       " <a href=\"/tutorials\">Video Tutorials</a>,\n",
       " <a href=\"/how-to-videos\">How to</a>,\n",
       " <a href=\"/test-sites\">Test Sites</a>,\n",
       " <a href=\"https://forum.webscraper.io/\" rel=\"noopener\" target=\"_blank\">Forum</a>,\n",
       " <a class=\"btn-menu1 install-extension\" href=\"https://chrome.google.com/webstore/detail/web-scraper/jnhgnonknehpejjnehehllkliplmbmhn?hl=en\" target=\"_blank\">Install</a>,\n",
       " <a class=\"btn-menu2\" href=\"https://cloud.webscraper.io/\">Login</a>,\n",
       " <a href=\"/test-sites/e-commerce/allinone\">Home</a>,\n",
       " <a class=\"category-link\" href=\"/test-sites/e-commerce/allinone/phones\">\n",
       " \t\t\t\t\tPhones\n",
       " \t\t\t\t\t<span class=\"fa arrow\"></span>\n",
       " </a>,\n",
       " <a class=\"subcategory-link active\" href=\"/test-sites/e-commerce/allinone/phones/touch\">\n",
       " \t\t\t\t\t\t\tTouch\n",
       " \t\t\t\t\t\t</a>,\n",
       " <a class=\"category-link\" href=\"/test-sites/e-commerce/allinone/computers\">\n",
       " \t\t\t\t\tComputers\n",
       " \t\t\t\t\t<span class=\"fa arrow\"></span>\n",
       " </a>,\n",
       " <h4 class=\"pull-right price\">$24.99</h4>,\n",
       " <h4>\n",
       " <a class=\"title\" href=\"/test-sites/e-commerce/allinone/product/486\" title=\"Nokia 123\">Nokia 123</a>\n",
       " </h4>,\n",
       " <a class=\"title\" href=\"/test-sites/e-commerce/allinone/product/486\" title=\"Nokia 123\">Nokia 123</a>,\n",
       " <p class=\"description\">7 day battery</p>,\n",
       " <p class=\"pull-right\">11 reviews</p>,\n",
       " <p data-rating=\"3\">\n",
       " <span class=\"glyphicon glyphicon-star\"></span>\n",
       " <span class=\"glyphicon glyphicon-star\"></span>\n",
       " <span class=\"glyphicon glyphicon-star\"></span>\n",
       " </p>,\n",
       " <h4 class=\"pull-right price\">$57.99</h4>,\n",
       " <h4>\n",
       " <a class=\"title\" href=\"/test-sites/e-commerce/allinone/product/487\" title=\"LG Optimus\">LG Optimus</a>\n",
       " </h4>,\n",
       " <a class=\"title\" href=\"/test-sites/e-commerce/allinone/product/487\" title=\"LG Optimus\">LG Optimus</a>,\n",
       " <p class=\"description\">3.2\" screen</p>,\n",
       " <p class=\"pull-right\">11 reviews</p>,\n",
       " <p data-rating=\"3\">\n",
       " <span class=\"glyphicon glyphicon-star\"></span>\n",
       " <span class=\"glyphicon glyphicon-star\"></span>\n",
       " <span class=\"glyphicon glyphicon-star\"></span>\n",
       " </p>,\n",
       " <h4 class=\"pull-right price\">$93.99</h4>,\n",
       " <h4>\n",
       " <a class=\"title\" href=\"/test-sites/e-commerce/allinone/product/488\" title=\"Samsung Galaxy\">Samsung Galaxy</a>\n",
       " </h4>,\n",
       " <a class=\"title\" href=\"/test-sites/e-commerce/allinone/product/488\" title=\"Samsung Galaxy\">Samsung Galaxy</a>,\n",
       " <p class=\"description\">5 mpx. Android 5.0</p>,\n",
       " <p class=\"pull-right\">3 reviews</p>,\n",
       " <p data-rating=\"3\">\n",
       " <span class=\"glyphicon glyphicon-star\"></span>\n",
       " <span class=\"glyphicon glyphicon-star\"></span>\n",
       " <span class=\"glyphicon glyphicon-star\"></span>\n",
       " </p>,\n",
       " <h4 class=\"pull-right price\">$109.99</h4>,\n",
       " <h4>\n",
       " <a class=\"title\" href=\"/test-sites/e-commerce/allinone/product/489\" title=\"Nokia X\">Nokia X</a>\n",
       " </h4>,\n",
       " <a class=\"title\" href=\"/test-sites/e-commerce/allinone/product/489\" title=\"Nokia X\">Nokia X</a>,\n",
       " <p class=\"description\">Andoid, Jolla dualboot</p>,\n",
       " <p class=\"pull-right\">4 reviews</p>,\n",
       " <p data-rating=\"4\">\n",
       " <span class=\"glyphicon glyphicon-star\"></span>\n",
       " <span class=\"glyphicon glyphicon-star\"></span>\n",
       " <span class=\"glyphicon glyphicon-star\"></span>\n",
       " <span class=\"glyphicon glyphicon-star\"></span>\n",
       " </p>,\n",
       " <h4 class=\"pull-right price\">$118.99</h4>,\n",
       " <h4>\n",
       " <a class=\"title\" href=\"/test-sites/e-commerce/allinone/product/490\" title=\"Sony Xperia\">Sony Xperia</a>\n",
       " </h4>,\n",
       " <a class=\"title\" href=\"/test-sites/e-commerce/allinone/product/490\" title=\"Sony Xperia\">Sony Xperia</a>,\n",
       " <p class=\"description\">GPS, waterproof</p>,\n",
       " <p class=\"pull-right\">6 reviews</p>,\n",
       " <p data-rating=\"1\">\n",
       " <span class=\"glyphicon glyphicon-star\"></span>\n",
       " </p>,\n",
       " <h4 class=\"pull-right price\">$499.99</h4>,\n",
       " <h4>\n",
       " <a class=\"title\" href=\"/test-sites/e-commerce/allinone/product/491\" title=\"Ubuntu Edge\">Ubuntu Edge</a>\n",
       " </h4>,\n",
       " <a class=\"title\" href=\"/test-sites/e-commerce/allinone/product/491\" title=\"Ubuntu Edge\">Ubuntu Edge</a>,\n",
       " <p class=\"description\">Sapphire glass</p>,\n",
       " <p class=\"pull-right\">2 reviews</p>,\n",
       " <p data-rating=\"1\">\n",
       " <span class=\"glyphicon glyphicon-star\"></span>\n",
       " </p>,\n",
       " <h4 class=\"pull-right price\">$899.99</h4>,\n",
       " <h4>\n",
       " <a class=\"title\" href=\"/test-sites/e-commerce/allinone/product/492\" title=\"Iphone\">Iphone</a>\n",
       " </h4>,\n",
       " <a class=\"title\" href=\"/test-sites/e-commerce/allinone/product/492\" title=\"Iphone\">Iphone</a>,\n",
       " <p class=\"description\">White</p>,\n",
       " <p class=\"pull-right\">10 reviews</p>,\n",
       " <p data-rating=\"1\">\n",
       " <span class=\"glyphicon glyphicon-star\"></span>\n",
       " </p>,\n",
       " <h4 class=\"pull-right price\">$899.99</h4>,\n",
       " <h4>\n",
       " <a class=\"title\" href=\"/test-sites/e-commerce/allinone/product/493\" title=\"Iphone\">Iphone</a>\n",
       " </h4>,\n",
       " <a class=\"title\" href=\"/test-sites/e-commerce/allinone/product/493\" title=\"Iphone\">Iphone</a>,\n",
       " <p class=\"description\">Silver</p>,\n",
       " <p class=\"pull-right\">8 reviews</p>,\n",
       " <p data-rating=\"2\">\n",
       " <span class=\"glyphicon glyphicon-star\"></span>\n",
       " <span class=\"glyphicon glyphicon-star\"></span>\n",
       " </p>,\n",
       " <h4 class=\"pull-right price\">$899.99</h4>,\n",
       " <h4>\n",
       " <a class=\"title\" href=\"/test-sites/e-commerce/allinone/product/494\" title=\"Iphone\">Iphone</a>\n",
       " </h4>,\n",
       " <a class=\"title\" href=\"/test-sites/e-commerce/allinone/product/494\" title=\"Iphone\">Iphone</a>,\n",
       " <p class=\"description\">Black</p>,\n",
       " <p class=\"pull-right\">1 reviews</p>,\n",
       " <p data-rating=\"1\">\n",
       " <span class=\"glyphicon glyphicon-star\"></span>\n",
       " </p>,\n",
       " <p>Products</p>,\n",
       " <a href=\"/\">Web Scraper browser extension</a>,\n",
       " <a href=\"/pricing\">Web Scraper Cloud</a>,\n",
       " <p>Company</p>,\n",
       " <a href=\"/about-us\">About us</a>,\n",
       " <a href=\"/contact\">Contact</a>,\n",
       " <a href=\"/privacy-policy\">Website Privacy Policy</a>,\n",
       " <a href=\"/extension-privacy-policy\">Browser Extension Privacy Policy</a>,\n",
       " <a href=\"https://webscraper.io/downloads/Web_Scraper_Media_Kit.zip\">Media kit</a>,\n",
       " <a href=\"/jobs\">Jobs</a>,\n",
       " <p>Resources</p>,\n",
       " <a href=\"/blog\">Blog</a>,\n",
       " <a href=\"/documentation\">Documentation</a>,\n",
       " <a href=\"/tutorials\">Video Tutorials</a>,\n",
       " <a href=\"/screenshots\">Screenshots</a>,\n",
       " <a href=\"/test-sites\">Test Sites</a>,\n",
       " <a href=\"https://forum.webscraper.io/\" rel=\"noopener\" target=\"_blank\">Forum</a>,\n",
       " <p>CONTACT US</p>,\n",
       " <a href=\"mailto:info@webscraper.io\">info@webscraper.io</a>,\n",
       " <a href=\"https://www.facebook.com/webscraperio/\" rel=\"noopener\" target=\"_blank\"><img alt=\"Web Scraper on Facebook\" src=\"/img/fbicon.png\"/></a>,\n",
       " <a href=\"https://twitter.com/webscraperio\" rel=\"noopener\" target=\"_blank\"><img alt=\"Web Scraper on Twitter\" src=\"/img/twicon.png\"/></a>,\n",
       " <p class=\"copyright\">Copyright &amp;copy 2023\n",
       " \t\t\t\t\t<a href=\"#\">Web Scraper</a> | All rights\n",
       " \t\t\t\t\treserved | Made by zoom59</p>,\n",
       " <a href=\"#\">Web Scraper</a>]"
      ]
     },
     "execution_count": 50,
     "metadata": {},
     "output_type": "execute_result"
    }
   ],
   "source": [
    "# find_all part 2\n",
    "soup.find_all(['h4', 'a', 'p']) # tags as list"
   ]
  },
  {
   "cell_type": "code",
   "execution_count": 57,
   "id": "686235a7",
   "metadata": {},
   "outputs": [
    {
     "data": {
      "text/plain": [
       "['Nokia 123', 'Iphone', 'Iphone', 'Iphone']"
      ]
     },
     "execution_count": 57,
     "metadata": {},
     "output_type": "execute_result"
    }
   ],
   "source": [
    "soup.find_all(string = ['Iphone' , 'Nokia 123'])"
   ]
  },
  {
   "cell_type": "code",
   "execution_count": 51,
   "id": "6728d770",
   "metadata": {},
   "outputs": [
    {
     "data": {
      "text/plain": [
       "[<nav class=\"navbar-collapse collapse\" id=\"navbar\" role=\"navigation\">\n",
       " <ul class=\"nav navbar-nav navbar-right\">\n",
       " <li class=\"hidden\">\n",
       " <a href=\"#page-top\"></a>\n",
       " </li>\n",
       " <li>\n",
       " <a class=\"menuitm\" href=\"/\">\n",
       " <p>Web Scraper</p>\n",
       " <div class=\"crta\"></div>\n",
       " </a>\n",
       " </li>\n",
       " <li>\n",
       " <a class=\"menuitm\" href=\"/cloud-scraper\">\n",
       " <p>Cloud Scraper</p>\n",
       " <div class=\"crta\"></div>\n",
       " </a>\n",
       " </li>\n",
       " <li>\n",
       " <a class=\"menuitm\" href=\"/pricing\">\n",
       " <p>Pricing</p>\n",
       " <div class=\"crta\"></div>\n",
       " </a>\n",
       " </li>\n",
       " <li class=\"dropdown\">\n",
       " <a class=\"menuitm dropdown-toggle\" data-toggle=\"dropdown\" href=\"#section3\">\n",
       " <p>Learn</p>\n",
       " <div class=\"crta\"></div>\n",
       " </a>\n",
       " <ul class=\"dropdown-menu\">\n",
       " <li>\n",
       " <a href=\"/documentation\">Documentation</a>\n",
       " </li>\n",
       " <li>\n",
       " <a href=\"/tutorials\">Video Tutorials</a>\n",
       " </li>\n",
       " <li>\n",
       " <a href=\"/how-to-videos\">How to</a>\n",
       " </li>\n",
       " <li>\n",
       " <a href=\"/test-sites\">Test Sites</a>\n",
       " </li>\n",
       " <li>\n",
       " <a href=\"https://forum.webscraper.io/\" rel=\"noopener\" target=\"_blank\">Forum</a>\n",
       " </li>\n",
       " </ul>\n",
       " </li>\n",
       " <li>\n",
       " <a class=\"btn-menu1 install-extension\" href=\"https://chrome.google.com/webstore/detail/web-scraper/jnhgnonknehpejjnehehllkliplmbmhn?hl=en\" target=\"_blank\">Install</a>\n",
       " </li>\n",
       " <li>\n",
       " <a class=\"btn-menu2\" href=\"https://cloud.webscraper.io/\">Login</a>\n",
       " </li>\n",
       " </ul>\n",
       " </nav>,\n",
       " <ul class=\"nav\" id=\"side-menu\">\n",
       " <li>\n",
       " <a href=\"/test-sites/e-commerce/allinone\">Home</a>\n",
       " </li>\n",
       " <li class=\"active\">\n",
       " <a class=\"category-link\" href=\"/test-sites/e-commerce/allinone/phones\">\n",
       " \t\t\t\t\tPhones\n",
       " \t\t\t\t\t<span class=\"fa arrow\"></span>\n",
       " </a>\n",
       " <ul class=\"nav nav-second-level collapse in\">\n",
       " <li>\n",
       " <a class=\"subcategory-link active\" href=\"/test-sites/e-commerce/allinone/phones/touch\">\n",
       " \t\t\t\t\t\t\tTouch\n",
       " \t\t\t\t\t\t</a>\n",
       " </li>\n",
       " </ul>\n",
       " </li>\n",
       " <li>\n",
       " <a class=\"category-link\" href=\"/test-sites/e-commerce/allinone/computers\">\n",
       " \t\t\t\t\tComputers\n",
       " \t\t\t\t\t<span class=\"fa arrow\"></span>\n",
       " </a>\n",
       " </li>\n",
       " </ul>,\n",
       " <div class=\"container-fluid footer\" id=\"layout-footer\">\n",
       " <div class=\"container\">\n",
       " <div class=\"row\">\n",
       " <div class=\"col-md-3\">\n",
       " <ul>\n",
       " <li><p>Products</p></li>\n",
       " <li>\n",
       " <a href=\"/\">Web Scraper browser extension</a>\n",
       " </li>\n",
       " <li>\n",
       " <a href=\"/pricing\">Web Scraper Cloud</a>\n",
       " </li>\n",
       " </ul>\n",
       " </div>\n",
       " <div class=\"col-md-3\">\n",
       " <ul>\n",
       " <li><p>Company</p></li>\n",
       " <li>\n",
       " <a href=\"/about-us\">About us</a>\n",
       " </li>\n",
       " <li>\n",
       " <a href=\"/contact\">Contact</a>\n",
       " </li>\n",
       " <li>\n",
       " <a href=\"/privacy-policy\">Website Privacy Policy</a>\n",
       " </li>\n",
       " <li>\n",
       " <a href=\"/extension-privacy-policy\">Browser Extension Privacy Policy</a>\n",
       " </li>\n",
       " <li>\n",
       " <a href=\"https://webscraper.io/downloads/Web_Scraper_Media_Kit.zip\">Media kit</a>\n",
       " </li>\n",
       " <li><a href=\"/jobs\">Jobs</a></li>\n",
       " </ul>\n",
       " </div>\n",
       " <div class=\"col-md-3\">\n",
       " <ul>\n",
       " <li><p>Resources</p></li>\n",
       " <li><a href=\"/blog\">Blog</a></li>\n",
       " <li>\n",
       " <a href=\"/documentation\">Documentation</a>\n",
       " </li>\n",
       " <li>\n",
       " <a href=\"/tutorials\">Video Tutorials</a>\n",
       " </li>\n",
       " <li>\n",
       " <a href=\"/screenshots\">Screenshots</a>\n",
       " </li>\n",
       " <li>\n",
       " <a href=\"/test-sites\">Test Sites</a>\n",
       " </li>\n",
       " <li>\n",
       " <a href=\"https://forum.webscraper.io/\" rel=\"noopener\" target=\"_blank\">Forum</a>\n",
       " </li>\n",
       " </ul>\n",
       " </div>\n",
       " <div class=\"col-md-3\">\n",
       " <ul>\n",
       " <li><p>CONTACT US</p></li>\n",
       " <li>\n",
       " <a href=\"mailto:info@webscraper.io\">info@webscraper.io</a>\n",
       " </li>\n",
       " <li>Ubelu 5-71,<br/> Adazi, Latvia, LV-2164</li>\n",
       " </ul>\n",
       " <ul class=\"smedia\">\n",
       " <li>\n",
       " <a href=\"https://www.facebook.com/webscraperio/\" rel=\"noopener\" target=\"_blank\"><img alt=\"Web Scraper on Facebook\" src=\"/img/fbicon.png\"/></a>\n",
       " </li>\n",
       " <li>\n",
       " <a href=\"https://twitter.com/webscraperio\" rel=\"noopener\" target=\"_blank\"><img alt=\"Web Scraper on Twitter\" src=\"/img/twicon.png\"/></a>\n",
       " </li>\n",
       " </ul>\n",
       " </div>\n",
       " </div>\n",
       " <div class=\"row\">\n",
       " <div class=\"col-md-12\">\n",
       " <p class=\"copyright\">Copyright &amp;copy 2023\n",
       " \t\t\t\t\t<a href=\"#\">Web Scraper</a> | All rights\n",
       " \t\t\t\t\treserved | Made by zoom59</p>\n",
       " </div>\n",
       " </div>\n",
       " </div>\n",
       " </div>]"
      ]
     },
     "execution_count": 51,
     "metadata": {},
     "output_type": "execute_result"
    }
   ],
   "source": [
    "soup.find_all(id = True)"
   ]
  },
  {
   "cell_type": "code",
   "execution_count": 52,
   "id": "ba4205ed",
   "metadata": {},
   "outputs": [
    {
     "data": {
      "text/plain": [
       "['Iphone', 'Iphone', 'Iphone']"
      ]
     },
     "execution_count": 52,
     "metadata": {},
     "output_type": "execute_result"
    }
   ],
   "source": [
    "soup.find_all(string = 'Iphone')"
   ]
  },
  {
   "cell_type": "code",
   "execution_count": 53,
   "id": "1fb731d8",
   "metadata": {},
   "outputs": [
    {
     "data": {
      "text/plain": [
       "['Iphone', 'Iphone', 'Iphone']"
      ]
     },
     "execution_count": 53,
     "metadata": {},
     "output_type": "execute_result"
    }
   ],
   "source": [
    "import re\n",
    "soup.find_all(string = re.compile('Ip'))"
   ]
  },
  {
   "cell_type": "code",
   "execution_count": 54,
   "id": "49098f33",
   "metadata": {},
   "outputs": [
    {
     "data": {
      "text/plain": [
       "[<button aria-controls=\"navbar\" aria-expanded=\"false\" class=\"navbar-toggle pull-right collapsed\" data-target=\"#navbar\" data-target-2=\".side-collapse-container\" data-target-3=\".side-collapse\" data-toggle=\"collapse\" type=\"button\">\n",
       " <span class=\"sr-only\">Toggle navigation</span>\n",
       " <span class=\"icon-bar top-bar\"></span>\n",
       " <span class=\"icon-bar middle-bar\"></span>\n",
       " <span class=\"icon-bar bottom-bar\"></span>\n",
       " </button>,\n",
       " <h4 class=\"pull-right price\">$24.99</h4>,\n",
       " <p class=\"pull-right\">11 reviews</p>,\n",
       " <h4 class=\"pull-right price\">$57.99</h4>,\n",
       " <p class=\"pull-right\">11 reviews</p>,\n",
       " <h4 class=\"pull-right price\">$93.99</h4>,\n",
       " <p class=\"pull-right\">3 reviews</p>,\n",
       " <h4 class=\"pull-right price\">$109.99</h4>,\n",
       " <p class=\"pull-right\">4 reviews</p>,\n",
       " <h4 class=\"pull-right price\">$118.99</h4>,\n",
       " <p class=\"pull-right\">6 reviews</p>,\n",
       " <h4 class=\"pull-right price\">$499.99</h4>,\n",
       " <p class=\"pull-right\">2 reviews</p>,\n",
       " <h4 class=\"pull-right price\">$899.99</h4>,\n",
       " <p class=\"pull-right\">10 reviews</p>,\n",
       " <h4 class=\"pull-right price\">$899.99</h4>,\n",
       " <p class=\"pull-right\">8 reviews</p>,\n",
       " <h4 class=\"pull-right price\">$899.99</h4>,\n",
       " <p class=\"pull-right\">1 reviews</p>]"
      ]
     },
     "execution_count": 54,
     "metadata": {},
     "output_type": "execute_result"
    }
   ],
   "source": [
    "soup.find_all(class_ = re.compile('pull'))"
   ]
  },
  {
   "cell_type": "code",
   "execution_count": 55,
   "id": "0e4582ad",
   "metadata": {},
   "outputs": [
    {
     "data": {
      "text/plain": [
       "[<p class=\"pull-right\">11 reviews</p>,\n",
       " <p class=\"pull-right\">11 reviews</p>,\n",
       " <p class=\"pull-right\">3 reviews</p>,\n",
       " <p class=\"pull-right\">4 reviews</p>,\n",
       " <p class=\"pull-right\">6 reviews</p>,\n",
       " <p class=\"pull-right\">2 reviews</p>,\n",
       " <p class=\"pull-right\">10 reviews</p>,\n",
       " <p class=\"pull-right\">8 reviews</p>,\n",
       " <p class=\"pull-right\">1 reviews</p>]"
      ]
     },
     "execution_count": 55,
     "metadata": {},
     "output_type": "execute_result"
    }
   ],
   "source": [
    "soup.find_all('p', class_ = re.compile('pull')"
   ]
  },
  {
   "cell_type": "code",
   "execution_count": 56,
   "id": "3b4b34c8",
   "metadata": {},
   "outputs": [
    {
     "data": {
      "text/plain": [
       "[<p class=\"pull-right\">11 reviews</p>,\n",
       " <p class=\"pull-right\">11 reviews</p>,\n",
       " <p class=\"pull-right\">3 reviews</p>]"
      ]
     },
     "execution_count": 56,
     "metadata": {},
     "output_type": "execute_result"
    }
   ],
   "source": [
    "soup.find_all('p', class_ = re.compile('pull'), limit = 3) # top 3"
   ]
  },
  {
   "cell_type": "code",
   "execution_count": 71,
   "id": "adafe7e4",
   "metadata": {},
   "outputs": [],
   "source": [
    "# find_all part 3\n",
    "\n",
    "product_name = [i.string for i in soup.find_all('a', {'class':'title'})]"
   ]
  },
  {
   "cell_type": "code",
   "execution_count": 72,
   "id": "692888e1",
   "metadata": {},
   "outputs": [
    {
     "data": {
      "text/plain": [
       "['Nokia 123',\n",
       " 'LG Optimus',\n",
       " 'Samsung Galaxy',\n",
       " 'Nokia X',\n",
       " 'Sony Xperia',\n",
       " 'Ubuntu Edge',\n",
       " 'Iphone',\n",
       " 'Iphone',\n",
       " 'Iphone']"
      ]
     },
     "execution_count": 72,
     "metadata": {},
     "output_type": "execute_result"
    }
   ],
   "source": [
    "product_name"
   ]
  },
  {
   "cell_type": "code",
   "execution_count": 73,
   "id": "5377a0fc",
   "metadata": {},
   "outputs": [],
   "source": [
    "price = [i.string for i in soup.find_all('h4', {'class':'pull-right price'})]"
   ]
  },
  {
   "cell_type": "code",
   "execution_count": 74,
   "id": "a992c6a0",
   "metadata": {},
   "outputs": [
    {
     "data": {
      "text/plain": [
       "['$24.99',\n",
       " '$57.99',\n",
       " '$93.99',\n",
       " '$109.99',\n",
       " '$118.99',\n",
       " '$499.99',\n",
       " '$899.99',\n",
       " '$899.99',\n",
       " '$899.99']"
      ]
     },
     "execution_count": 74,
     "metadata": {},
     "output_type": "execute_result"
    }
   ],
   "source": [
    "price"
   ]
  },
  {
   "cell_type": "code",
   "execution_count": 75,
   "id": "177d337e",
   "metadata": {},
   "outputs": [],
   "source": [
    "reviews = [i.string for i in soup.find_all('p', class_ = 'pull-right')]"
   ]
  },
  {
   "cell_type": "code",
   "execution_count": 76,
   "id": "56fd8335",
   "metadata": {},
   "outputs": [
    {
     "data": {
      "text/plain": [
       "['11 reviews',\n",
       " '11 reviews',\n",
       " '3 reviews',\n",
       " '4 reviews',\n",
       " '6 reviews',\n",
       " '2 reviews',\n",
       " '10 reviews',\n",
       " '8 reviews',\n",
       " '1 reviews']"
      ]
     },
     "execution_count": 76,
     "metadata": {},
     "output_type": "execute_result"
    }
   ],
   "source": [
    "reviews"
   ]
  },
  {
   "cell_type": "code",
   "execution_count": 83,
   "id": "6c4de89c",
   "metadata": {},
   "outputs": [],
   "source": [
    "description = [i.text for i in soup.find_all('p', {'class':'description'})]"
   ]
  },
  {
   "cell_type": "code",
   "execution_count": 84,
   "id": "7a8e3d6c",
   "metadata": {},
   "outputs": [
    {
     "data": {
      "text/plain": [
       "['7 day battery',\n",
       " '3.2\" screen',\n",
       " '5 mpx. Android 5.0',\n",
       " 'Andoid, Jolla dualboot',\n",
       " 'GPS, waterproof',\n",
       " 'Sapphire glass',\n",
       " 'White',\n",
       " 'Silver',\n",
       " 'Black']"
      ]
     },
     "execution_count": 84,
     "metadata": {},
     "output_type": "execute_result"
    }
   ],
   "source": [
    "description"
   ]
  },
  {
   "cell_type": "code",
   "execution_count": 88,
   "id": "cfddd46e",
   "metadata": {},
   "outputs": [],
   "source": [
    "import pandas as pd\n",
    "products = pd.DataFrame({'Product Name':product_name, 'Product Price':price, 'Product Description':description, 'Review':reviews})"
   ]
  },
  {
   "cell_type": "code",
   "execution_count": 89,
   "id": "d045b326",
   "metadata": {},
   "outputs": [
    {
     "data": {
      "text/html": [
       "<div>\n",
       "<style scoped>\n",
       "    .dataframe tbody tr th:only-of-type {\n",
       "        vertical-align: middle;\n",
       "    }\n",
       "\n",
       "    .dataframe tbody tr th {\n",
       "        vertical-align: top;\n",
       "    }\n",
       "\n",
       "    .dataframe thead th {\n",
       "        text-align: right;\n",
       "    }\n",
       "</style>\n",
       "<table border=\"1\" class=\"dataframe\">\n",
       "  <thead>\n",
       "    <tr style=\"text-align: right;\">\n",
       "      <th></th>\n",
       "      <th>Product Name</th>\n",
       "      <th>Product Price</th>\n",
       "      <th>Product Description</th>\n",
       "      <th>Review</th>\n",
       "    </tr>\n",
       "  </thead>\n",
       "  <tbody>\n",
       "    <tr>\n",
       "      <th>0</th>\n",
       "      <td>Nokia 123</td>\n",
       "      <td>$24.99</td>\n",
       "      <td>7 day battery</td>\n",
       "      <td>11 reviews</td>\n",
       "    </tr>\n",
       "    <tr>\n",
       "      <th>1</th>\n",
       "      <td>LG Optimus</td>\n",
       "      <td>$57.99</td>\n",
       "      <td>3.2\" screen</td>\n",
       "      <td>11 reviews</td>\n",
       "    </tr>\n",
       "    <tr>\n",
       "      <th>2</th>\n",
       "      <td>Samsung Galaxy</td>\n",
       "      <td>$93.99</td>\n",
       "      <td>5 mpx. Android 5.0</td>\n",
       "      <td>3 reviews</td>\n",
       "    </tr>\n",
       "    <tr>\n",
       "      <th>3</th>\n",
       "      <td>Nokia X</td>\n",
       "      <td>$109.99</td>\n",
       "      <td>Andoid, Jolla dualboot</td>\n",
       "      <td>4 reviews</td>\n",
       "    </tr>\n",
       "    <tr>\n",
       "      <th>4</th>\n",
       "      <td>Sony Xperia</td>\n",
       "      <td>$118.99</td>\n",
       "      <td>GPS, waterproof</td>\n",
       "      <td>6 reviews</td>\n",
       "    </tr>\n",
       "    <tr>\n",
       "      <th>5</th>\n",
       "      <td>Ubuntu Edge</td>\n",
       "      <td>$499.99</td>\n",
       "      <td>Sapphire glass</td>\n",
       "      <td>2 reviews</td>\n",
       "    </tr>\n",
       "    <tr>\n",
       "      <th>6</th>\n",
       "      <td>Iphone</td>\n",
       "      <td>$899.99</td>\n",
       "      <td>White</td>\n",
       "      <td>10 reviews</td>\n",
       "    </tr>\n",
       "    <tr>\n",
       "      <th>7</th>\n",
       "      <td>Iphone</td>\n",
       "      <td>$899.99</td>\n",
       "      <td>Silver</td>\n",
       "      <td>8 reviews</td>\n",
       "    </tr>\n",
       "    <tr>\n",
       "      <th>8</th>\n",
       "      <td>Iphone</td>\n",
       "      <td>$899.99</td>\n",
       "      <td>Black</td>\n",
       "      <td>1 reviews</td>\n",
       "    </tr>\n",
       "  </tbody>\n",
       "</table>\n",
       "</div>"
      ],
      "text/plain": [
       "     Product Name Product Price     Product Description      Review\n",
       "0       Nokia 123        $24.99           7 day battery  11 reviews\n",
       "1      LG Optimus        $57.99             3.2\" screen  11 reviews\n",
       "2  Samsung Galaxy        $93.99      5 mpx. Android 5.0   3 reviews\n",
       "3         Nokia X       $109.99  Andoid, Jolla dualboot   4 reviews\n",
       "4     Sony Xperia       $118.99         GPS, waterproof   6 reviews\n",
       "5     Ubuntu Edge       $499.99          Sapphire glass   2 reviews\n",
       "6          Iphone       $899.99                   White  10 reviews\n",
       "7          Iphone       $899.99                  Silver   8 reviews\n",
       "8          Iphone       $899.99                   Black   1 reviews"
      ]
     },
     "execution_count": 89,
     "metadata": {},
     "output_type": "execute_result"
    }
   ],
   "source": [
    "products"
   ]
  },
  {
   "cell_type": "code",
   "execution_count": 90,
   "id": "70dc27df",
   "metadata": {},
   "outputs": [],
   "source": [
    "#extracted data from nested HTML Tags\n",
    "\n",
    "box = soup.find_all('div', {'class':'col-sm-4 col-lg-4 col-md-4'})"
   ]
  },
  {
   "cell_type": "code",
   "execution_count": 92,
   "id": "4efb4564",
   "metadata": {},
   "outputs": [
    {
     "data": {
      "text/plain": [
       "9"
      ]
     },
     "execution_count": 92,
     "metadata": {},
     "output_type": "execute_result"
    }
   ],
   "source": [
    "len(box)"
   ]
  },
  {
   "cell_type": "code",
   "execution_count": 95,
   "id": "473387eb",
   "metadata": {},
   "outputs": [],
   "source": [
    "box = soup.find_all('div', {'class':'col-md-3 sidebar'})[0]"
   ]
  },
  {
   "cell_type": "code",
   "execution_count": 105,
   "id": "fc46d9a6",
   "metadata": {},
   "outputs": [
    {
     "data": {
      "text/plain": [
       "'\\n\\t\\t\\t\\t\\tPhones\\n\\t\\t\\t\\t\\t\\n'"
      ]
     },
     "execution_count": 105,
     "metadata": {},
     "output_type": "execute_result"
    }
   ],
   "source": [
    "box.find_all('ul', id = 'side-menu')[0].find_all('a', class_ = True)[0].text"
   ]
  },
  {
   "cell_type": "code",
   "execution_count": null,
   "id": "40e45953",
   "metadata": {},
   "outputs": [],
   "source": []
  }
 ],
 "metadata": {
  "kernelspec": {
   "display_name": "Python 3 (ipykernel)",
   "language": "python",
   "name": "python3"
  },
  "language_info": {
   "codemirror_mode": {
    "name": "ipython",
    "version": 3
   },
   "file_extension": ".py",
   "mimetype": "text/x-python",
   "name": "python",
   "nbconvert_exporter": "python",
   "pygments_lexer": "ipython3",
   "version": "3.9.13"
  }
 },
 "nbformat": 4,
 "nbformat_minor": 5
}
