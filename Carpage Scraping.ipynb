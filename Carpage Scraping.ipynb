{
 "cells": [
  {
   "cell_type": "code",
   "execution_count": 77,
   "id": "5b61efd6",
   "metadata": {},
   "outputs": [],
   "source": [
    "import requests\n",
    "from bs4 import BeautifulSoup\n",
    "import pandas as pd"
   ]
  },
  {
   "cell_type": "code",
   "execution_count": 78,
   "id": "8b53e4cc",
   "metadata": {},
   "outputs": [],
   "source": [
    "url = requests.get('https://www.carpages.ca/used-cars/search/?num_results=50&fueltype_id%5B0%5D=3&fueltype_id%5B1%5D=7&p=10')"
   ]
  },
  {
   "cell_type": "code",
   "execution_count": 79,
   "id": "7f073d19",
   "metadata": {},
   "outputs": [],
   "source": [
    "soup = BeautifulSoup(url.text, 'lxml')"
   ]
  },
  {
   "cell_type": "code",
   "execution_count": 80,
   "id": "55c80273",
   "metadata": {},
   "outputs": [],
   "source": [
    "posting = soup.find_all('div', class_ = 'media soft push-none rule')"
   ]
  },
  {
   "cell_type": "code",
   "execution_count": 83,
   "id": "41909858",
   "metadata": {},
   "outputs": [],
   "source": [
    "count = 10\n",
    "key = True\n",
    "while key:\n",
    "    data_dict = {'link' : [], 'name' : [], 'price' : []}\n",
    "    for post in posting:\n",
    "        data_dict['link'].append('https://www.carpages.ca'+post.find('a', class_ = 'media__img media__img--thumb').get('href'))\n",
    "        data_dict['name'].append(post.find('h4', class_ = 'hN').text.strip())\n",
    "        data_dict['price'].append(post.find('strong', class_ = 'delta').text.strip())\n",
    "    df1 = pd.DataFrame(data_dict)\n",
    "    df = pd.concat([df, df1])\n",
    "    count = count + 1\n",
    "    if count == 15:\n",
    "        key = False\n",
    "    else:\n",
    "        next_page_link = 'https://www.carpages.ca'+soup.find('a', {'title':'Next Page'}).get('href')\n",
    "        next_page_url = requests.get(next_page_link)\n",
    "        soup = BeautifulSoup(next_page_url.text, 'lxml')\n",
    "        posting = soup.find_all('div', class_ = 'media soft push-none rule')"
   ]
  },
  {
   "cell_type": "code",
   "execution_count": 85,
   "id": "c7dc9a5c",
   "metadata": {},
   "outputs": [],
   "source": [
    "df.to_excel('carpage_scraping.xlsx')"
   ]
  },
  {
   "cell_type": "code",
   "execution_count": null,
   "id": "2b074ea4",
   "metadata": {},
   "outputs": [],
   "source": []
  }
 ],
 "metadata": {
  "kernelspec": {
   "display_name": "Python 3 (ipykernel)",
   "language": "python",
   "name": "python3"
  },
  "language_info": {
   "codemirror_mode": {
    "name": "ipython",
    "version": 3
   },
   "file_extension": ".py",
   "mimetype": "text/x-python",
   "name": "python",
   "nbconvert_exporter": "python",
   "pygments_lexer": "ipython3",
   "version": "3.9.13"
  }
 },
 "nbformat": 4,
 "nbformat_minor": 5
}
